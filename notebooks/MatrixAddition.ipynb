{
 "cells": [
  {
   "cell_type": "markdown",
   "metadata": {},
   "source": [
    "# License\n",
    "\n",
    "    Jupyter notebook for accessing CUDA\n",
    "    Copyright (C) 2018 Andre.Brodtkorb@ifi.uio.no\n",
    "\n",
    "    This program is free software: you can redistribute it and/or modify\n",
    "    it under the terms of the GNU General Public License as published by\n",
    "    the Free Software Foundation, either version 3 of the License, or\n",
    "    (at your option) any later version.\n",
    "\n",
    "    This program is distributed in the hope that it will be useful,\n",
    "    but WITHOUT ANY WARRANTY; without even the implied warranty of\n",
    "    MERCHANTABILITY or FITNESS FOR A PARTICULAR PURPOSE.  See the\n",
    "    GNU General Public License for more details.\n",
    "\n",
    "    You should have received a copy of the GNU General Public License\n",
    "    along with this program.  If not, see <http://www.gnu.org/licenses/>."
   ]
  },
  {
   "cell_type": "code",
   "execution_count": 1,
   "metadata": {},
   "outputs": [],
   "source": [
    "#Lets have matplotlib \"inline\"\n",
    "%matplotlib inline\n",
    "\n",
    "#Import packages we need\n",
    "import numpy as np\n",
    "import pycuda.compiler as cuda_compiler\n",
    "from pycuda.gpuarray import GPUArray\n",
    "import pycuda.driver as cuda_driver\n",
    "\n",
    "from matplotlib import pyplot as plt"
   ]
  },
  {
   "cell_type": "code",
   "execution_count": 2,
   "metadata": {},
   "outputs": [],
   "source": [
    "#Initialize CUDA - must be first call to CUDA!\n",
    "cuda_driver.init()"
   ]
  },
  {
   "cell_type": "code",
   "execution_count": 3,
   "metadata": {},
   "outputs": [
    {
     "name": "stdout",
     "output_type": "stream",
     "text": [
      "Using 'Tesla K80'\n",
      " => compute capability: (3, 7)\n",
      " => memory: 9188 / 11441 MB available\n"
     ]
    }
   ],
   "source": [
    "#Create CUDA context\n",
    "cuda_device = cuda_driver.Device(0)\n",
    "print(\"Using '{:s}'\".format(cuda_device.name()))\n",
    "print(\" => compute capability: {:s}\".format(str(cuda_device.compute_capability())))\n",
    "context = cuda_device.make_context()\n",
    "free, total = cuda_driver.mem_get_info()\n",
    "print(\" => memory: {:d} / {:d} MB available\".format(int(free/(1024*1024)), int(total/(1024*1024))))"
   ]
  },
  {
   "cell_type": "code",
   "execution_count": 4,
   "metadata": {},
   "outputs": [],
   "source": [
    "cuda_kernel = \"\"\"\n",
    "__global__ void addVexKernel(float* c, float* a, float* b) {\n",
    "    unsigned int i = blockIdx.x*blockDim.x + threadIdx.x;\n",
    "    c[i] = a[i] + b[i];\n",
    "}\n",
    "\n",
    "__global__ void addMatrixKernel( float * c, float* a, float* b, int cols) {\n",
    "    unsigned int i = blockIdx.x*blockDim.x + threadIdx.x;\n",
    "    unsigned int j = blockIdx.y*blockDim.y + threadIdx.y;\n",
    "    \n",
    "    unsigned int k = j*cols + i;\n",
    "    \n",
    "    c[k] = a[k] + b[k];\n",
    "}\n",
    "\n",
    "\"\"\"\n",
    "module = cuda_compiler.SourceModule(cuda_kernel)\n",
    "kernel = module.get_function(\"addMatrixKernel\");"
   ]
  },
  {
   "cell_type": "code",
   "execution_count": 5,
   "metadata": {},
   "outputs": [],
   "source": [
    "#Size of our test\n",
    "test_size = (16, 24)\n",
    "\n",
    "#Create test input / output data\n",
    "a = np.random.random(test_size).astype(np.float32)\n",
    "b = np.random.random(test_size).astype(np.float32)\n",
    "c = np.empty_like(a)"
   ]
  },
  {
   "cell_type": "code",
   "execution_count": 6,
   "metadata": {},
   "outputs": [
    {
     "name": "stdout",
     "output_type": "stream",
     "text": [
      "(16, 24)\n"
     ]
    }
   ],
   "source": [
    "print( a.shape)"
   ]
  },
  {
   "cell_type": "code",
   "execution_count": 7,
   "metadata": {},
   "outputs": [],
   "source": [
    "#Upload data to the device\n",
    "a_g = GPUArray(a.shape, np.float32)\n",
    "b_g = GPUArray(b.shape, np.float32)\n",
    "a_g.set(a)\n",
    "b_g.set(b)"
   ]
  },
  {
   "cell_type": "code",
   "execution_count": 8,
   "metadata": {},
   "outputs": [],
   "source": [
    "#Allocate output data\n",
    "c_g = GPUArray(c.shape, np.float32)"
   ]
  },
  {
   "cell_type": "code",
   "execution_count": 9,
   "metadata": {},
   "outputs": [
    {
     "name": "stdout",
     "output_type": "stream",
     "text": [
      "Domain size is (24, 16)\n",
      "Block size is (8, 4, 1)\n",
      "Grid size is (3, 4, 1)\n"
     ]
    }
   ],
   "source": [
    "#a.shape = [rows, columns] => [y, x]\n",
    "domain_size = (a.shape[1],a.shape[0])\n",
    "block_size = ( 8, 4, 1) # According to a.shape this must be [x, y, z]\n",
    "grid_size = ( domain_size[0] // block_size[0], domain_size[1] // block_size[1] ,1 )\n",
    "\n",
    "print(\"Domain size is \" + str(domain_size))\n",
    "print(\"Block size is \" + str(block_size))\n",
    "print(\"Grid size is \" + str(grid_size))"
   ]
  },
  {
   "cell_type": "code",
   "execution_count": 10,
   "metadata": {},
   "outputs": [
    {
     "data": {
      "text/plain": [
       "array([[1.052519  , 1.3274565 , 0.694355  , 1.2158697 , 0.7625821 ,\n",
       "        1.4108863 , 0.73737216, 1.3842227 , 1.0883455 , 1.0969968 ,\n",
       "        1.2026778 , 1.261967  , 0.9755929 , 0.89051557, 1.6308345 ,\n",
       "        0.75818956, 1.371532  , 1.2241049 , 1.13711   , 1.0018773 ,\n",
       "        0.8074315 , 0.3075932 , 1.5765162 , 0.68019396],\n",
       "       [0.39808917, 0.73721623, 0.5366184 , 1.0598495 , 1.1273406 ,\n",
       "        0.9873525 , 0.7767452 , 1.5952218 , 1.1370995 , 0.8571677 ,\n",
       "        0.68151265, 1.5259459 , 0.59920526, 0.75153965, 1.7631935 ,\n",
       "        1.5366048 , 0.6753411 , 1.1487643 , 0.6548003 , 1.0733061 ,\n",
       "        1.346602  , 0.8006703 , 0.21804464, 1.3449914 ],\n",
       "       [0.92938066, 1.0121052 , 1.7263417 , 0.9368596 , 1.7236817 ,\n",
       "        0.7873632 , 0.67020243, 0.47403288, 0.98922044, 1.3900968 ,\n",
       "        1.7346913 , 1.7134526 , 0.93775994, 0.7522258 , 0.32346243,\n",
       "        1.2300851 , 0.93458587, 0.31986248, 1.1347241 , 0.7614744 ,\n",
       "        0.40409794, 1.7801862 , 1.1284416 , 1.0582653 ],\n",
       "       [0.18206131, 0.705739  , 0.42537823, 0.38349542, 0.6691088 ,\n",
       "        0.872277  , 1.0476612 , 0.95975226, 0.7583407 , 1.2165741 ,\n",
       "        1.4324582 , 0.8725616 , 1.2904658 , 0.34303683, 1.1911097 ,\n",
       "        1.7778583 , 1.3435249 , 1.1372507 , 1.4925177 , 0.69145894,\n",
       "        1.6580938 , 0.07403933, 1.2021894 , 0.9998243 ],\n",
       "       [1.140823  , 1.050154  , 1.168103  , 1.3673805 , 0.44447148,\n",
       "        1.5038911 , 0.5732572 , 1.0504148 , 1.5945334 , 1.1231761 ,\n",
       "        0.70937765, 1.3698878 , 0.7377802 , 1.6425582 , 1.536727  ,\n",
       "        1.0184562 , 0.73076874, 1.6567631 , 0.89748645, 1.2335014 ,\n",
       "        1.2312117 , 1.2199686 , 0.45773262, 1.7060834 ],\n",
       "       [1.0277616 , 1.5191379 , 1.5909177 , 1.3072491 , 0.43964115,\n",
       "        1.6963155 , 0.74471825, 1.0112695 , 0.39084256, 0.80806917,\n",
       "        1.5244441 , 1.2122257 , 0.85092866, 0.94585115, 0.9645934 ,\n",
       "        1.3995092 , 1.0582472 , 1.1478853 , 0.7406144 , 0.83217895,\n",
       "        1.5668468 , 0.76746464, 1.3114117 , 0.96379066],\n",
       "       [1.8534904 , 0.96660334, 0.6257437 , 1.5877433 , 0.38227752,\n",
       "        0.41101354, 0.9261423 , 1.0434945 , 1.0031093 , 0.54087955,\n",
       "        1.238461  , 1.3623688 , 0.78357744, 0.9788029 , 1.7194853 ,\n",
       "        0.53056145, 0.8799441 , 1.126497  , 1.4409568 , 0.8441262 ,\n",
       "        1.3542937 , 1.4171062 , 1.1056458 , 0.75202143],\n",
       "       [1.2174218 , 1.3428473 , 1.0728124 , 0.8627039 , 1.2858121 ,\n",
       "        1.4567032 , 1.0763655 , 0.76967883, 1.0015469 , 1.1734177 ,\n",
       "        0.696039  , 1.7174833 , 0.8560056 , 0.34564915, 1.34466   ,\n",
       "        1.8428912 , 0.76400375, 1.5016277 , 0.7410164 , 0.6589622 ,\n",
       "        1.7972395 , 1.1979544 , 0.6475553 , 1.5815084 ],\n",
       "       [0.799502  , 1.3339722 , 1.1634312 , 0.9391118 , 1.117996  ,\n",
       "        0.6644961 , 1.3355727 , 0.651104  , 1.3006275 , 0.32554832,\n",
       "        0.8858618 , 0.50211084, 1.6850704 , 0.4950021 , 1.0488528 ,\n",
       "        0.8696791 , 1.1409026 , 0.7679929 , 0.37348238, 1.6842988 ,\n",
       "        1.2421255 , 0.97281677, 1.1383239 , 1.4182402 ],\n",
       "       [1.677532  , 1.1011188 , 1.0205646 , 0.631657  , 0.49054936,\n",
       "        1.8582908 , 0.95635486, 0.76986367, 1.1863775 , 1.1525486 ,\n",
       "        0.723785  , 0.8361677 , 1.3002683 , 1.2693272 , 1.4253255 ,\n",
       "        1.3463116 , 0.85445285, 1.0137883 , 1.2525451 , 1.5773833 ,\n",
       "        0.9257306 , 0.49650288, 0.8471515 , 0.30637276],\n",
       "       [1.5734501 , 0.42334622, 1.305633  , 0.21542019, 1.6883816 ,\n",
       "        1.1689811 , 1.6791041 , 1.0513425 , 0.85324264, 0.64984655,\n",
       "        0.90856254, 0.92816335, 0.9850741 , 1.302546  , 1.2248744 ,\n",
       "        1.6564701 , 1.4219741 , 0.8122976 , 1.0358529 , 1.1870022 ,\n",
       "        0.88342416, 0.84983563, 1.0079887 , 1.6764657 ],\n",
       "       [1.6902568 , 0.9471042 , 0.53097475, 1.3252416 , 0.53516454,\n",
       "        0.06974353, 1.4661771 , 0.6106338 , 0.7973933 , 0.5948732 ,\n",
       "        1.214006  , 0.38696077, 1.822419  , 1.2151278 , 0.58366066,\n",
       "        1.351278  , 1.493105  , 1.2073938 , 1.1819901 , 0.9252132 ,\n",
       "        1.8552468 , 1.1688447 , 1.7381546 , 1.6796892 ],\n",
       "       [1.0758709 , 0.5924527 , 0.49443573, 1.2605681 , 0.56964695,\n",
       "        1.0692385 , 0.8694832 , 0.5296935 , 1.5083134 , 1.0361162 ,\n",
       "        0.3055976 , 1.0330224 , 1.2498267 , 1.0768982 , 1.1295164 ,\n",
       "        0.44129685, 1.307543  , 1.0992584 , 0.84579265, 1.1735328 ,\n",
       "        0.77072155, 0.7599619 , 1.8421372 , 0.96168864],\n",
       "       [1.504883  , 1.0489155 , 1.8348446 , 1.500335  , 0.62187624,\n",
       "        1.2400389 , 0.9805553 , 1.1793487 , 0.73454696, 1.5438275 ,\n",
       "        1.563536  , 1.1733782 , 0.27338886, 1.1026769 , 1.0114197 ,\n",
       "        1.1083667 , 0.4398925 , 0.8544904 , 1.2598053 , 0.445634  ,\n",
       "        0.79445827, 0.57683676, 0.29679316, 1.0828513 ],\n",
       "       [0.4855399 , 0.8046184 , 1.5402437 , 0.964454  , 1.1555628 ,\n",
       "        0.7508619 , 1.1059062 , 0.40494406, 1.4781594 , 1.2860004 ,\n",
       "        0.60000455, 0.958017  , 1.401004  , 1.5150826 , 1.1694698 ,\n",
       "        1.8178306 , 1.0943804 , 1.5946382 , 1.4024972 , 1.253082  ,\n",
       "        0.9527526 , 1.1261442 , 0.7902794 , 0.89212036],\n",
       "       [0.71976495, 1.2047517 , 1.0332935 , 0.4903364 , 1.2799734 ,\n",
       "        0.73492336, 0.25716698, 0.96397597, 1.1466628 , 1.666353  ,\n",
       "        0.9201887 , 0.58023435, 0.69421196, 0.16006662, 0.9706483 ,\n",
       "        1.8798413 , 1.4791301 , 0.77533126, 1.4165896 , 1.3677969 ,\n",
       "        1.1349497 , 1.3907794 , 1.7299746 , 0.7119249 ]], dtype=float32)"
      ]
     },
     "execution_count": 10,
     "metadata": {},
     "output_type": "execute_result"
    }
   ],
   "source": [
    "#Execute program on device\n",
    "kernel(c_g, a_g, b_g, np.int32(domain_size[0]), block=block_size, grid=grid_size)\n",
    "\n",
    "#Copy data from device to host\n",
    "c_g.get(c)"
   ]
  },
  {
   "cell_type": "code",
   "execution_count": 11,
   "metadata": {},
   "outputs": [
    {
     "name": "stdout",
     "output_type": "stream",
     "text": [
      "C   =  [[1.052519   1.3274565  0.694355   1.2158697  0.7625821  1.4108863\n",
      "  0.73737216 1.3842227  1.0883455  1.0969968  1.2026778  1.261967\n",
      "  0.9755929  0.89051557 1.6308345  0.75818956 1.371532   1.2241049\n",
      "  1.13711    1.0018773  0.8074315  0.3075932  1.5765162  0.68019396]\n",
      " [0.39808917 0.73721623 0.5366184  1.0598495  1.1273406  0.9873525\n",
      "  0.7767452  1.5952218  1.1370995  0.8571677  0.68151265 1.5259459\n",
      "  0.59920526 0.75153965 1.7631935  1.5366048  0.6753411  1.1487643\n",
      "  0.6548003  1.0733061  1.346602   0.8006703  0.21804464 1.3449914 ]\n",
      " [0.92938066 1.0121052  1.7263417  0.9368596  1.7236817  0.7873632\n",
      "  0.67020243 0.47403288 0.98922044 1.3900968  1.7346913  1.7134526\n",
      "  0.93775994 0.7522258  0.32346243 1.2300851  0.93458587 0.31986248\n",
      "  1.1347241  0.7614744  0.40409794 1.7801862  1.1284416  1.0582653 ]\n",
      " [0.18206131 0.705739   0.42537823 0.38349542 0.6691088  0.872277\n",
      "  1.0476612  0.95975226 0.7583407  1.2165741  1.4324582  0.8725616\n",
      "  1.2904658  0.34303683 1.1911097  1.7778583  1.3435249  1.1372507\n",
      "  1.4925177  0.69145894 1.6580938  0.07403933 1.2021894  0.9998243 ]\n",
      " [1.140823   1.050154   1.168103   1.3673805  0.44447148 1.5038911\n",
      "  0.5732572  1.0504148  1.5945334  1.1231761  0.70937765 1.3698878\n",
      "  0.7377802  1.6425582  1.536727   1.0184562  0.73076874 1.6567631\n",
      "  0.89748645 1.2335014  1.2312117  1.2199686  0.45773262 1.7060834 ]\n",
      " [1.0277616  1.5191379  1.5909177  1.3072491  0.43964115 1.6963155\n",
      "  0.74471825 1.0112695  0.39084256 0.80806917 1.5244441  1.2122257\n",
      "  0.85092866 0.94585115 0.9645934  1.3995092  1.0582472  1.1478853\n",
      "  0.7406144  0.83217895 1.5668468  0.76746464 1.3114117  0.96379066]\n",
      " [1.8534904  0.96660334 0.6257437  1.5877433  0.38227752 0.41101354\n",
      "  0.9261423  1.0434945  1.0031093  0.54087955 1.238461   1.3623688\n",
      "  0.78357744 0.9788029  1.7194853  0.53056145 0.8799441  1.126497\n",
      "  1.4409568  0.8441262  1.3542937  1.4171062  1.1056458  0.75202143]\n",
      " [1.2174218  1.3428473  1.0728124  0.8627039  1.2858121  1.4567032\n",
      "  1.0763655  0.76967883 1.0015469  1.1734177  0.696039   1.7174833\n",
      "  0.8560056  0.34564915 1.34466    1.8428912  0.76400375 1.5016277\n",
      "  0.7410164  0.6589622  1.7972395  1.1979544  0.6475553  1.5815084 ]\n",
      " [0.799502   1.3339722  1.1634312  0.9391118  1.117996   0.6644961\n",
      "  1.3355727  0.651104   1.3006275  0.32554832 0.8858618  0.50211084\n",
      "  1.6850704  0.4950021  1.0488528  0.8696791  1.1409026  0.7679929\n",
      "  0.37348238 1.6842988  1.2421255  0.97281677 1.1383239  1.4182402 ]\n",
      " [1.677532   1.1011188  1.0205646  0.631657   0.49054936 1.8582908\n",
      "  0.95635486 0.76986367 1.1863775  1.1525486  0.723785   0.8361677\n",
      "  1.3002683  1.2693272  1.4253255  1.3463116  0.85445285 1.0137883\n",
      "  1.2525451  1.5773833  0.9257306  0.49650288 0.8471515  0.30637276]\n",
      " [1.5734501  0.42334622 1.305633   0.21542019 1.6883816  1.1689811\n",
      "  1.6791041  1.0513425  0.85324264 0.64984655 0.90856254 0.92816335\n",
      "  0.9850741  1.302546   1.2248744  1.6564701  1.4219741  0.8122976\n",
      "  1.0358529  1.1870022  0.88342416 0.84983563 1.0079887  1.6764657 ]\n",
      " [1.6902568  0.9471042  0.53097475 1.3252416  0.53516454 0.06974353\n",
      "  1.4661771  0.6106338  0.7973933  0.5948732  1.214006   0.38696077\n",
      "  1.822419   1.2151278  0.58366066 1.351278   1.493105   1.2073938\n",
      "  1.1819901  0.9252132  1.8552468  1.1688447  1.7381546  1.6796892 ]\n",
      " [1.0758709  0.5924527  0.49443573 1.2605681  0.56964695 1.0692385\n",
      "  0.8694832  0.5296935  1.5083134  1.0361162  0.3055976  1.0330224\n",
      "  1.2498267  1.0768982  1.1295164  0.44129685 1.307543   1.0992584\n",
      "  0.84579265 1.1735328  0.77072155 0.7599619  1.8421372  0.96168864]\n",
      " [1.504883   1.0489155  1.8348446  1.500335   0.62187624 1.2400389\n",
      "  0.9805553  1.1793487  0.73454696 1.5438275  1.563536   1.1733782\n",
      "  0.27338886 1.1026769  1.0114197  1.1083667  0.4398925  0.8544904\n",
      "  1.2598053  0.445634   0.79445827 0.57683676 0.29679316 1.0828513 ]\n",
      " [0.4855399  0.8046184  1.5402437  0.964454   1.1555628  0.7508619\n",
      "  1.1059062  0.40494406 1.4781594  1.2860004  0.60000455 0.958017\n",
      "  1.401004   1.5150826  1.1694698  1.8178306  1.0943804  1.5946382\n",
      "  1.4024972  1.253082   0.9527526  1.1261442  0.7902794  0.89212036]\n",
      " [0.71976495 1.2047517  1.0332935  0.4903364  1.2799734  0.73492336\n",
      "  0.25716698 0.96397597 1.1466628  1.666353   0.9201887  0.58023435\n",
      "  0.69421196 0.16006662 0.9706483  1.8798413  1.4791301  0.77533126\n",
      "  1.4165896  1.3677969  1.1349497  1.3907794  1.7299746  0.7119249 ]]\n",
      "Ref =  [[1.052519   1.3274565  0.694355   1.2158697  0.7625821  1.4108863\n",
      "  0.73737216 1.3842227  1.0883455  1.0969968  1.2026778  1.261967\n",
      "  0.9755929  0.89051557 1.6308345  0.75818956 1.371532   1.2241049\n",
      "  1.13711    1.0018773  0.8074315  0.3075932  1.5765162  0.68019396]\n",
      " [0.39808917 0.73721623 0.5366184  1.0598495  1.1273406  0.9873525\n",
      "  0.7767452  1.5952218  1.1370995  0.8571677  0.68151265 1.5259459\n",
      "  0.59920526 0.75153965 1.7631935  1.5366048  0.6753411  1.1487643\n",
      "  0.6548003  1.0733061  1.346602   0.8006703  0.21804464 1.3449914 ]\n",
      " [0.92938066 1.0121052  1.7263417  0.9368596  1.7236817  0.7873632\n",
      "  0.67020243 0.47403288 0.98922044 1.3900968  1.7346913  1.7134526\n",
      "  0.93775994 0.7522258  0.32346243 1.2300851  0.93458587 0.31986248\n",
      "  1.1347241  0.7614744  0.40409794 1.7801862  1.1284416  1.0582653 ]\n",
      " [0.18206131 0.705739   0.42537823 0.38349542 0.6691088  0.872277\n",
      "  1.0476612  0.95975226 0.7583407  1.2165741  1.4324582  0.8725616\n",
      "  1.2904658  0.34303683 1.1911097  1.7778583  1.3435249  1.1372507\n",
      "  1.4925177  0.69145894 1.6580938  0.07403933 1.2021894  0.9998243 ]\n",
      " [1.140823   1.050154   1.168103   1.3673805  0.44447148 1.5038911\n",
      "  0.5732572  1.0504148  1.5945334  1.1231761  0.70937765 1.3698878\n",
      "  0.7377802  1.6425582  1.536727   1.0184562  0.73076874 1.6567631\n",
      "  0.89748645 1.2335014  1.2312117  1.2199686  0.45773262 1.7060834 ]\n",
      " [1.0277616  1.5191379  1.5909177  1.3072491  0.43964115 1.6963155\n",
      "  0.74471825 1.0112695  0.39084256 0.80806917 1.5244441  1.2122257\n",
      "  0.85092866 0.94585115 0.9645934  1.3995092  1.0582472  1.1478853\n",
      "  0.7406144  0.83217895 1.5668468  0.76746464 1.3114117  0.96379066]\n",
      " [1.8534904  0.96660334 0.6257437  1.5877433  0.38227752 0.41101354\n",
      "  0.9261423  1.0434945  1.0031093  0.54087955 1.238461   1.3623688\n",
      "  0.78357744 0.9788029  1.7194853  0.53056145 0.8799441  1.126497\n",
      "  1.4409568  0.8441262  1.3542937  1.4171062  1.1056458  0.75202143]\n",
      " [1.2174218  1.3428473  1.0728124  0.8627039  1.2858121  1.4567032\n",
      "  1.0763655  0.76967883 1.0015469  1.1734177  0.696039   1.7174833\n",
      "  0.8560056  0.34564915 1.34466    1.8428912  0.76400375 1.5016277\n",
      "  0.7410164  0.6589622  1.7972395  1.1979544  0.6475553  1.5815084 ]\n",
      " [0.799502   1.3339722  1.1634312  0.9391118  1.117996   0.6644961\n",
      "  1.3355727  0.651104   1.3006275  0.32554832 0.8858618  0.50211084\n",
      "  1.6850704  0.4950021  1.0488528  0.8696791  1.1409026  0.7679929\n",
      "  0.37348238 1.6842988  1.2421255  0.97281677 1.1383239  1.4182402 ]\n",
      " [1.677532   1.1011188  1.0205646  0.631657   0.49054936 1.8582908\n",
      "  0.95635486 0.76986367 1.1863775  1.1525486  0.723785   0.8361677\n",
      "  1.3002683  1.2693272  1.4253255  1.3463116  0.85445285 1.0137883\n",
      "  1.2525451  1.5773833  0.9257306  0.49650288 0.8471515  0.30637276]\n",
      " [1.5734501  0.42334622 1.305633   0.21542019 1.6883816  1.1689811\n",
      "  1.6791041  1.0513425  0.85324264 0.64984655 0.90856254 0.92816335\n",
      "  0.9850741  1.302546   1.2248744  1.6564701  1.4219741  0.8122976\n",
      "  1.0358529  1.1870022  0.88342416 0.84983563 1.0079887  1.6764657 ]\n",
      " [1.6902568  0.9471042  0.53097475 1.3252416  0.53516454 0.06974353\n",
      "  1.4661771  0.6106338  0.7973933  0.5948732  1.214006   0.38696077\n",
      "  1.822419   1.2151278  0.58366066 1.351278   1.493105   1.2073938\n",
      "  1.1819901  0.9252132  1.8552468  1.1688447  1.7381546  1.6796892 ]\n",
      " [1.0758709  0.5924527  0.49443573 1.2605681  0.56964695 1.0692385\n",
      "  0.8694832  0.5296935  1.5083134  1.0361162  0.3055976  1.0330224\n",
      "  1.2498267  1.0768982  1.1295164  0.44129685 1.307543   1.0992584\n",
      "  0.84579265 1.1735328  0.77072155 0.7599619  1.8421372  0.96168864]\n",
      " [1.504883   1.0489155  1.8348446  1.500335   0.62187624 1.2400389\n",
      "  0.9805553  1.1793487  0.73454696 1.5438275  1.563536   1.1733782\n",
      "  0.27338886 1.1026769  1.0114197  1.1083667  0.4398925  0.8544904\n",
      "  1.2598053  0.445634   0.79445827 0.57683676 0.29679316 1.0828513 ]\n",
      " [0.4855399  0.8046184  1.5402437  0.964454   1.1555628  0.7508619\n",
      "  1.1059062  0.40494406 1.4781594  1.2860004  0.60000455 0.958017\n",
      "  1.401004   1.5150826  1.1694698  1.8178306  1.0943804  1.5946382\n",
      "  1.4024972  1.253082   0.9527526  1.1261442  0.7902794  0.89212036]\n",
      " [0.71976495 1.2047517  1.0332935  0.4903364  1.2799734  0.73492336\n",
      "  0.25716698 0.96397597 1.1466628  1.666353   0.9201887  0.58023435\n",
      "  0.69421196 0.16006662 0.9706483  1.8798413  1.4791301  0.77533126\n",
      "  1.4165896  1.3677969  1.1349497  1.3907794  1.7299746  0.7119249 ]]\n",
      "Sad =  0.0\n"
     ]
    }
   ],
   "source": [
    "#Compute reference using Numpy\n",
    "c_ref = a + b\n",
    "\n",
    "#Print result\n",
    "print(\"C   = \", c)\n",
    "print(\"Ref = \", c_ref)\n",
    "print(\"Sad = \", np.sum(np.abs(c - c_ref)))"
   ]
  },
  {
   "cell_type": "code",
   "execution_count": 12,
   "metadata": {},
   "outputs": [
    {
     "data": {
      "text/plain": [
       "<matplotlib.image.AxesImage at 0x7fa829b730f0>"
      ]
     },
     "execution_count": 12,
     "metadata": {},
     "output_type": "execute_result"
    },
    {
     "data": {
      "image/png": "[encoded data removed]",
      "text/plain": [
       "<matplotlib.figure.Figure at 0x7fa829e658d0>"
      ]
     },
     "metadata": {
      "needs_background": "light"
     },
     "output_type": "display_data"
    }
   ],
   "source": [
    "plt.figure(figsize=(12,8))\n",
    "plt.subplot(1,2,1)\n",
    "plt.imshow(c)\n",
    "plt.subplot(1,2,2)\n",
    "plt.imshow(c_ref)"
   ]
  },
  {
   "cell_type": "code",
   "execution_count": null,
   "metadata": {},
   "outputs": [],
   "source": []
  },
  {
   "cell_type": "code",
   "execution_count": null,
   "metadata": {},
   "outputs": [],
   "source": []
  }
 ],
 "metadata": {
  "kernelspec": {
   "display_name": "Python 3",
   "language": "python",
   "name": "python3"
  },
  "language_info": {
   "codemirror_mode": {
    "name": "ipython",
    "version": 3
   },
   "file_extension": ".py",
   "mimetype": "text/x-python",
   "name": "python",
   "nbconvert_exporter": "python",
   "pygments_lexer": "ipython3",
   "version": "3.6.6"
  }
 },
 "nbformat": 4,
 "nbformat_minor": 2
}
